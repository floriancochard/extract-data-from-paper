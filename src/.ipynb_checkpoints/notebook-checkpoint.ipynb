{
 "cells": [
  {
   "cell_type": "markdown",
   "metadata": {},
   "source": [
    "# Image Processing Pipeline Notebook\n",
    "\n",
    "This notebook demonstrates the image processing and OCR pipeline steps."
   ]
  },
  {
   "cell_type": "code",
   "execution_count": null,
   "metadata": {},
   "outputs": [],
   "source": [
    "# Setup and imports\n",
    "%reload_ext autoreload\n",
    "%autoreload 1\n",
    "%aimport core.ocr\n",
    "%aimport core.image\n",
    "%aimport core.text\n",
    "\n",
    "import cv2\n",
    "import core\n",
    "import conf\n",
    "from pathlib import Path\n",
    "from PIL import Image\n",
    "\n",
    "# Initialize pipeline\n",
    "pipeline = core.Pipeline()"
   ]
  },
  {
   "cell_type": "markdown",
   "metadata": {},
   "source": [
    "## Block Segmentation Demo"
   ]
  },
  {
   "cell_type": "code",
   "execution_count": null,
   "metadata": {},
   "outputs": [],
   "source": [
    "def process_blocks(preprocess_path: Path, output_dir: str, year: str, page: str):\n",
    "    \"\"\"Process image blocks and return segmented blocks.\"\"\"\n",
    "    return core.Image(preprocess_path, output_dir).block_segmentation(year, page)\n",
    "\n",
    "def process_lines(block_path: Path, output_dir: str, year: str, page: str, block_num: int):\n",
    "    \"\"\"Process block lines and return segmented lines.\"\"\"\n",
    "    return core.Image(block_path, output_dir).line_segmentation(year, page, block_num)\n",
    "\n",
    "def process_block_text(block_path: Path, year: str, page: str, block_num: int):\n",
    "    \"\"\"Process block text using OCR.\"\"\"\n",
    "    return core.OCR(block_path).block_to_string(year, page, block_num)\n",
    "\n",
    "def process_line_text(line_path: Path, year: str, page: str, block_num: int, line_num: int, height: int):\n",
    "    \"\"\"Process line text using OCR.\"\"\"\n",
    "    return core.OCR(line_path).line_to_string(year, page, block_num, line_num, height)"
   ]
  },
  {
   "cell_type": "markdown",
   "metadata": {},
   "source": [
    "## Pipeline Execution"
   ]
  },
  {
   "cell_type": "code",
   "execution_count": null,
   "metadata": {},
   "outputs": [],
   "source": [
    "# Process blocks\n",
    "blocks = process_blocks(\n",
    "    preprocess_path=Path('data/output/preprocess/1922-028.png'),\n",
    "    output_dir='data/output/block/',\n",
    "    year='1922',\n",
    "    page='028'\n",
    ")\n",
    "\n",
    "# Process method-specific segmentation\n",
    "method = pipeline.params.METHOD\n",
    "strings = []\n",
    "\n",
    "if method == \"BLOCK\":\n",
    "    for block_path, block_num in blocks:\n",
    "        string = process_block_text(block_path, '1922', '028', block_num)\n",
    "        strings.append(string)\n",
    "        \n",
    "elif method == \"LINE\":\n",
    "    for block_path, block_num in blocks:\n",
    "        lines = process_lines(block_path, 'data/output/line/', '1922', '028', block_num)\n",
    "        for line_path, line_num, height in lines:\n",
    "            string = process_line_text(line_path, '1922', '028', block_num, line_num, height)\n",
    "            strings.append(string)\n",
    "else:\n",
    "    raise ValueError(f\"Unsupported method: {method}\")"
   ]
  }
 ],
 "metadata": {
  "kernelspec": {
   "display_name": "Python 3 (ipykernel)",
   "language": "python",
   "name": "python3"
  },
  "language_info": {
   "codemirror_mode": {
    "name": "ipython",
    "version": 3
   },
   "file_extension": ".py",
   "mimetype": "text/x-python",
   "name": "python",
   "nbconvert_exporter": "python",
   "pygments_lexer": "ipython3",
   "version": "3.9.6"
  }
 },
 "nbformat": 4,
 "nbformat_minor": 4
}
